{
  "nbformat": 4,
  "nbformat_minor": 0,
  "metadata": {
    "colab": {
      "name": "LanguageTest.ipynb",
      "provenance": [],
      "authorship_tag": "ABX9TyPYmg9Itdclvzudf7Nb+TSy",
      "include_colab_link": true
    },
    "kernelspec": {
      "name": "python3",
      "display_name": "Python 3"
    }
  },
  "cells": [
    {
      "cell_type": "markdown",
      "metadata": {
        "id": "view-in-github",
        "colab_type": "text"
      },
      "source": [
        "<a href=\"https://colab.research.google.com/github/tomonorisasaki/AtCoder_dump/blob/master/LanguageTest.ipynb\" target=\"_parent\"><img src=\"https://colab.research.google.com/assets/colab-badge.svg\" alt=\"Open In Colab\"/></a>"
      ]
    },
    {
      "cell_type": "code",
      "metadata": {
        "id": "YkKHW6Kkl7Uy",
        "colab_type": "code",
        "colab": {}
      },
      "source": [
        "a = int(input())"
      ],
      "execution_count": null,
      "outputs": []
    },
    {
      "cell_type": "code",
      "metadata": {
        "id": "6BqDeNkPmKdC",
        "colab_type": "code",
        "colab": {}
      },
      "source": [
        "b, c = map(int, input().split())"
      ],
      "execution_count": null,
      "outputs": []
    },
    {
      "cell_type": "code",
      "metadata": {
        "id": "Ek94G_WhmMYd",
        "colab_type": "code",
        "colab": {}
      },
      "source": [
        "print(a+b+c, input())"
      ],
      "execution_count": null,
      "outputs": []
    }
  ]
}